{
 "cells": [
  {
   "cell_type": "markdown",
   "metadata": {},
   "source": [
    "# Retirement Planner\n",
    "\n",
    "---\n",
    "\n",
    "## Environment Setup"
   ]
  },
  {
   "cell_type": "code",
   "execution_count": 1,
   "metadata": {},
   "outputs": [],
   "source": [
    "# Import libraries and dependencies\n",
    "import numpy as np\n",
    "import pandas as pd\n",
    "import os\n",
    "from datetime import datetime, timedelta\n",
    "import matplotlib.pyplot as plt\n",
    "import alpaca_trade_api as tradeapi\n",
    "%matplotlib inline"
   ]
  },
  {
   "cell_type": "code",
   "execution_count": 2,
   "metadata": {},
   "outputs": [],
   "source": [
    "# Set the random seed for resutls reproducibility (for testing purposes only)\n",
    "np.random.seed(42)"
   ]
  },
  {
   "cell_type": "markdown",
   "metadata": {},
   "source": [
    "---\n",
    "\n",
    "## Portfolio Planner\n",
    "\n",
    "In this activity, you will use the Alpaca API to grab historical data for a `60/40` portfolio using `SPY` to represent the stock portion and `AGG` to represent the bonds."
   ]
  },
  {
   "cell_type": "code",
   "execution_count": 3,
   "metadata": {},
   "outputs": [],
   "source": [
    "# Load .env enviroment variables\n",
    "from dotenv import load_dotenv\n",
    "load_dotenv()\n",
    "\n",
    "# Set Alpaca API key and secret\n",
    "alpaca_api_key = \"ALPACA_API_KEY\"\n",
    "alpaca_secret_key = \"ALPACA_API_SECRET_KEY\"\n",
    "\n",
    "# Create the Alpaca API object\n",
    "api = tradeapi.REST(\n",
    "    alpaca_api_key,\n",
    "    alpaca_secret_key,\n",
    "    api_version=\"v2\")\n"
   ]
  },
  {
   "cell_type": "markdown",
   "metadata": {},
   "source": [
    "# Data Collection\n",
    "\n",
    "In this step, you will need to use the Alpaca api to fetch closing prices for the `SPY` and `AGG` tickers. Save the results as a pandas DataFrame"
   ]
  },
  {
   "cell_type": "code",
   "execution_count": 4,
   "metadata": {},
   "outputs": [],
   "source": [
    "# Subset your tickers, then pull returns data:\n",
    "# Set the ticker\n",
    "ticker = [\"SPY\", \"AGG\"]\n",
    "\n",
    "# Set timeframe to '1D'\n",
    "timeframe = \"1D\"\n",
    "\n",
    "# Set start and end datetimes of 1 year, between now and 365 days ago.\n",
    "start_date = pd.Timestamp('2019-01-01', tz='America/New_York').isoformat()\n",
    "end_date = pd.Timestamp('2019-12-31', tz='America/New_York').isoformat()\n",
    "\n",
    "# Get 1 year's worth of historical data for SPY and AGG\n",
    "df = api.get_barset(\n",
    "    ticker,\n",
    "    timeframe,\n",
    "    limit=None,\n",
    "    start=start_date,\n",
    "    end=end_date,\n",
    "    after=None,\n",
    "    until=None,\n",
    ").df\n",
    "\n",
    "# Drop unnecessary columns\n",
    "df = df.drop(\n",
    "    columns=['open', 'high', 'low', 'volume'],\n",
    "    level=1\n",
    ")"
   ]
  },
  {
   "cell_type": "code",
   "execution_count": 5,
   "metadata": {},
   "outputs": [
    {
     "data": {
      "text/html": [
       "<div>\n",
       "<style scoped>\n",
       "    .dataframe tbody tr th:only-of-type {\n",
       "        vertical-align: middle;\n",
       "    }\n",
       "\n",
       "    .dataframe tbody tr th {\n",
       "        vertical-align: top;\n",
       "    }\n",
       "\n",
       "    .dataframe thead tr th {\n",
       "        text-align: left;\n",
       "    }\n",
       "</style>\n",
       "<table border=\"1\" class=\"dataframe\">\n",
       "  <thead>\n",
       "    <tr>\n",
       "      <th></th>\n",
       "      <th>AGG</th>\n",
       "      <th>SPY</th>\n",
       "    </tr>\n",
       "    <tr>\n",
       "      <th></th>\n",
       "      <th>close</th>\n",
       "      <th>close</th>\n",
       "    </tr>\n",
       "  </thead>\n",
       "  <tbody>\n",
       "    <tr>\n",
       "      <th>2019-01-02 00:00:00-05:00</th>\n",
       "      <td>106.585</td>\n",
       "      <td>249.89</td>\n",
       "    </tr>\n",
       "    <tr>\n",
       "      <th>2019-01-03 00:00:00-05:00</th>\n",
       "      <td>107.020</td>\n",
       "      <td>244.46</td>\n",
       "    </tr>\n",
       "    <tr>\n",
       "      <th>2019-01-04 00:00:00-05:00</th>\n",
       "      <td>106.695</td>\n",
       "      <td>252.41</td>\n",
       "    </tr>\n",
       "    <tr>\n",
       "      <th>2019-01-07 00:00:00-05:00</th>\n",
       "      <td>106.470</td>\n",
       "      <td>254.40</td>\n",
       "    </tr>\n",
       "    <tr>\n",
       "      <th>2019-01-08 00:00:00-05:00</th>\n",
       "      <td>106.420</td>\n",
       "      <td>256.65</td>\n",
       "    </tr>\n",
       "  </tbody>\n",
       "</table>\n",
       "</div>"
      ],
      "text/plain": [
       "                               AGG     SPY\n",
       "                             close   close\n",
       "2019-01-02 00:00:00-05:00  106.585  249.89\n",
       "2019-01-03 00:00:00-05:00  107.020  244.46\n",
       "2019-01-04 00:00:00-05:00  106.695  252.41\n",
       "2019-01-07 00:00:00-05:00  106.470  254.40\n",
       "2019-01-08 00:00:00-05:00  106.420  256.65"
      ]
     },
     "execution_count": 5,
     "metadata": {},
     "output_type": "execute_result"
    }
   ],
   "source": [
    "# Display sample data\n",
    "df.head()"
   ]
  },
  {
   "cell_type": "markdown",
   "metadata": {},
   "source": [
    "---\n",
    "\n",
    "## Monte Carlo Simulation\n",
    "\n",
    "In this step, you will run Monte Carlo Simulations for your portfolio to model portfolio performance at different retirement ages. \n",
    "\n",
    "Complete the following steps:\n",
    "\n",
    "1. Calculate the daily returns for the SPY and AGG closing prices.\n",
    "\n",
    "2. Calculate volatility for both the SPY and AGG closing prices.\n",
    "\n",
    "3. Find the last day's closing price for both stocks and save those as variables\n",
    "\n",
    "4. Run a Monte Carlo Simulation of at least `100` iterations and generate at least `30` years of closing prices\n",
    "\n",
    "**Hint:** There are `252` trading days per year, so the number of records to generate for each Monte Carlo run will be `252 days * 30 years`."
   ]
  },
  {
   "cell_type": "code",
   "execution_count": 6,
   "metadata": {},
   "outputs": [
    {
     "data": {
      "text/html": [
       "<div>\n",
       "<style scoped>\n",
       "    .dataframe tbody tr th:only-of-type {\n",
       "        vertical-align: middle;\n",
       "    }\n",
       "\n",
       "    .dataframe tbody tr th {\n",
       "        vertical-align: top;\n",
       "    }\n",
       "\n",
       "    .dataframe thead tr th {\n",
       "        text-align: left;\n",
       "    }\n",
       "</style>\n",
       "<table border=\"1\" class=\"dataframe\">\n",
       "  <thead>\n",
       "    <tr>\n",
       "      <th></th>\n",
       "      <th>AGG</th>\n",
       "      <th>SPY</th>\n",
       "    </tr>\n",
       "    <tr>\n",
       "      <th></th>\n",
       "      <th>close</th>\n",
       "      <th>close</th>\n",
       "    </tr>\n",
       "  </thead>\n",
       "  <tbody>\n",
       "    <tr>\n",
       "      <th>2019-01-02 00:00:00-05:00</th>\n",
       "      <td>NaN</td>\n",
       "      <td>NaN</td>\n",
       "    </tr>\n",
       "    <tr>\n",
       "      <th>2019-01-03 00:00:00-05:00</th>\n",
       "      <td>0.004081</td>\n",
       "      <td>-0.021730</td>\n",
       "    </tr>\n",
       "    <tr>\n",
       "      <th>2019-01-04 00:00:00-05:00</th>\n",
       "      <td>-0.003037</td>\n",
       "      <td>0.032521</td>\n",
       "    </tr>\n",
       "    <tr>\n",
       "      <th>2019-01-07 00:00:00-05:00</th>\n",
       "      <td>-0.002109</td>\n",
       "      <td>0.007884</td>\n",
       "    </tr>\n",
       "    <tr>\n",
       "      <th>2019-01-08 00:00:00-05:00</th>\n",
       "      <td>-0.000470</td>\n",
       "      <td>0.008844</td>\n",
       "    </tr>\n",
       "  </tbody>\n",
       "</table>\n",
       "</div>"
      ],
      "text/plain": [
       "                                AGG       SPY\n",
       "                              close     close\n",
       "2019-01-02 00:00:00-05:00       NaN       NaN\n",
       "2019-01-03 00:00:00-05:00  0.004081 -0.021730\n",
       "2019-01-04 00:00:00-05:00 -0.003037  0.032521\n",
       "2019-01-07 00:00:00-05:00 -0.002109  0.007884\n",
       "2019-01-08 00:00:00-05:00 -0.000470  0.008844"
      ]
     },
     "execution_count": 6,
     "metadata": {},
     "output_type": "execute_result"
    }
   ],
   "source": [
    "# Calculate the daily roi for the stocks\n",
    "daily_return=df.pct_change()\n",
    "# Display sample data\n",
    "daily_return.head()"
   ]
  },
  {
   "cell_type": "code",
   "execution_count": 7,
   "metadata": {},
   "outputs": [
    {
     "data": {
      "text/plain": [
       "0.00021277231473764173"
      ]
     },
     "execution_count": 7,
     "metadata": {},
     "output_type": "execute_result"
    }
   ],
   "source": [
    "# Compute daily volatility\n",
    "std_dev_daily_return_agg = daily_return.std()['AGG']['close']\n",
    "std_dev_daily_return_spy = daily_return.std()['SPY']['close']\n",
    "\n",
    "# average daily return\n",
    "avg_daily_return_agg = daily_return.mean()['AGG']['close']\n",
    "avg_daily_return_spy = daily_return.mean()['SPY']['close']\n",
    "avg_daily_return_agg"
   ]
  },
  {
   "cell_type": "code",
   "execution_count": 8,
   "metadata": {},
   "outputs": [],
   "source": [
    "# Save the last day's closing price\n",
    "agg_last_price = df['AGG']['close'][-1]\n",
    "spy_last_price = df['SPY']['close'][-1]"
   ]
  },
  {
   "cell_type": "code",
   "execution_count": 9,
   "metadata": {},
   "outputs": [],
   "source": [
    "# Setup the Monte Carlo Parameters\n",
    "number_simulations = 500\n",
    "number_records = 252 * 30\n",
    "monte_carlo = pd.DataFrame()"
   ]
  },
  {
   "cell_type": "code",
   "execution_count": 10,
   "metadata": {},
   "outputs": [],
   "source": [
    "# Run the Monte Carlo Simulation\n",
    "simulated_price_df = pd.DataFrame()\n",
    "portfolio_cumulative_returns = pd.DataFrame()\n",
    "for n in range(number_simulations):\n",
    "    simulated_agg_prices = [agg_last_price]\n",
    "    simulated_spy_prices = [spy_last_price]\n",
    "    for i in range(number_records):\n",
    "        simulated_agg_price = simulated_agg_prices[-1] * (1 + np.random.normal(avg_daily_return_agg, std_dev_daily_return_agg))\n",
    "        simulated_spy_price = simulated_spy_prices[-1] * (1 + np.random.normal(avg_daily_return_spy, std_dev_daily_return_spy))\n",
    "        simulated_agg_prices.append(simulated_agg_price)\n",
    "        simulated_spy_prices.append(simulated_spy_price)\n",
    "    simulated_price_df[\"AGG prices\"] = pd.Series(simulated_agg_prices)\n",
    "    simulated_price_df[\"SPY prices\"] = pd.Series(simulated_spy_prices)\n",
    "    simulated_daily_returns = simulated_price_df.pct_change()\n",
    "    weights = [0.40, 0.60]\n",
    "    portfolio_daily_returns = simulated_daily_returns.dot(weights)\n",
    "    portfolio_cumulative_returns[n] = (1 + portfolio_daily_returns.fillna(0)).cumprod()        "
   ]
  },
  {
   "cell_type": "code",
   "execution_count": 11,
   "metadata": {},
   "outputs": [
    {
     "data": {
      "text/html": [
       "<div>\n",
       "<style scoped>\n",
       "    .dataframe tbody tr th:only-of-type {\n",
       "        vertical-align: middle;\n",
       "    }\n",
       "\n",
       "    .dataframe tbody tr th {\n",
       "        vertical-align: top;\n",
       "    }\n",
       "\n",
       "    .dataframe thead th {\n",
       "        text-align: right;\n",
       "    }\n",
       "</style>\n",
       "<table border=\"1\" class=\"dataframe\">\n",
       "  <thead>\n",
       "    <tr style=\"text-align: right;\">\n",
       "      <th></th>\n",
       "      <th>0</th>\n",
       "      <th>1</th>\n",
       "      <th>2</th>\n",
       "      <th>3</th>\n",
       "      <th>4</th>\n",
       "      <th>5</th>\n",
       "      <th>6</th>\n",
       "      <th>7</th>\n",
       "      <th>8</th>\n",
       "      <th>9</th>\n",
       "      <th>...</th>\n",
       "      <th>490</th>\n",
       "      <th>491</th>\n",
       "      <th>492</th>\n",
       "      <th>493</th>\n",
       "      <th>494</th>\n",
       "      <th>495</th>\n",
       "      <th>496</th>\n",
       "      <th>497</th>\n",
       "      <th>498</th>\n",
       "      <th>499</th>\n",
       "    </tr>\n",
       "  </thead>\n",
       "  <tbody>\n",
       "    <tr>\n",
       "      <th>0</th>\n",
       "      <td>1.000000</td>\n",
       "      <td>1.000000</td>\n",
       "      <td>1.000000</td>\n",
       "      <td>1.000000</td>\n",
       "      <td>1.000000</td>\n",
       "      <td>1.000000</td>\n",
       "      <td>1.000000</td>\n",
       "      <td>1.000000</td>\n",
       "      <td>1.000000</td>\n",
       "      <td>1.000000</td>\n",
       "      <td>...</td>\n",
       "      <td>1.000000</td>\n",
       "      <td>1.000000</td>\n",
       "      <td>1.000000</td>\n",
       "      <td>1.000000</td>\n",
       "      <td>1.000000</td>\n",
       "      <td>1.000000</td>\n",
       "      <td>1.000000</td>\n",
       "      <td>1.000000</td>\n",
       "      <td>1.000000</td>\n",
       "      <td>1.000000</td>\n",
       "    </tr>\n",
       "    <tr>\n",
       "      <th>1</th>\n",
       "      <td>1.000476</td>\n",
       "      <td>1.000536</td>\n",
       "      <td>0.998808</td>\n",
       "      <td>1.005394</td>\n",
       "      <td>1.011797</td>\n",
       "      <td>0.994452</td>\n",
       "      <td>0.997251</td>\n",
       "      <td>1.013277</td>\n",
       "      <td>1.000869</td>\n",
       "      <td>0.995376</td>\n",
       "      <td>...</td>\n",
       "      <td>1.002066</td>\n",
       "      <td>0.992709</td>\n",
       "      <td>1.001801</td>\n",
       "      <td>1.002671</td>\n",
       "      <td>0.996472</td>\n",
       "      <td>1.003160</td>\n",
       "      <td>1.001638</td>\n",
       "      <td>1.006800</td>\n",
       "      <td>0.998173</td>\n",
       "      <td>0.994765</td>\n",
       "    </tr>\n",
       "    <tr>\n",
       "      <th>2</th>\n",
       "      <td>1.008876</td>\n",
       "      <td>1.004699</td>\n",
       "      <td>1.003590</td>\n",
       "      <td>0.996711</td>\n",
       "      <td>1.009571</td>\n",
       "      <td>0.994247</td>\n",
       "      <td>0.994214</td>\n",
       "      <td>1.007199</td>\n",
       "      <td>1.000225</td>\n",
       "      <td>0.993036</td>\n",
       "      <td>...</td>\n",
       "      <td>1.005759</td>\n",
       "      <td>0.994517</td>\n",
       "      <td>1.003317</td>\n",
       "      <td>1.006181</td>\n",
       "      <td>0.997472</td>\n",
       "      <td>0.991774</td>\n",
       "      <td>1.002764</td>\n",
       "      <td>1.005408</td>\n",
       "      <td>0.996137</td>\n",
       "      <td>0.998871</td>\n",
       "    </tr>\n",
       "    <tr>\n",
       "      <th>3</th>\n",
       "      <td>1.008286</td>\n",
       "      <td>1.004228</td>\n",
       "      <td>1.003770</td>\n",
       "      <td>0.998232</td>\n",
       "      <td>1.007751</td>\n",
       "      <td>0.987669</td>\n",
       "      <td>0.998229</td>\n",
       "      <td>1.001361</td>\n",
       "      <td>1.000230</td>\n",
       "      <td>1.001279</td>\n",
       "      <td>...</td>\n",
       "      <td>1.006771</td>\n",
       "      <td>0.988444</td>\n",
       "      <td>1.004118</td>\n",
       "      <td>1.010565</td>\n",
       "      <td>0.993293</td>\n",
       "      <td>0.994454</td>\n",
       "      <td>1.008272</td>\n",
       "      <td>0.999144</td>\n",
       "      <td>0.998656</td>\n",
       "      <td>1.003328</td>\n",
       "    </tr>\n",
       "    <tr>\n",
       "      <th>4</th>\n",
       "      <td>1.013963</td>\n",
       "      <td>1.006575</td>\n",
       "      <td>1.008493</td>\n",
       "      <td>1.002636</td>\n",
       "      <td>1.013664</td>\n",
       "      <td>0.990972</td>\n",
       "      <td>1.003241</td>\n",
       "      <td>0.995491</td>\n",
       "      <td>1.002048</td>\n",
       "      <td>1.006036</td>\n",
       "      <td>...</td>\n",
       "      <td>1.004196</td>\n",
       "      <td>0.992123</td>\n",
       "      <td>1.004724</td>\n",
       "      <td>1.004423</td>\n",
       "      <td>0.994844</td>\n",
       "      <td>0.993782</td>\n",
       "      <td>1.005722</td>\n",
       "      <td>1.002248</td>\n",
       "      <td>0.996964</td>\n",
       "      <td>1.004095</td>\n",
       "    </tr>\n",
       "  </tbody>\n",
       "</table>\n",
       "<p>5 rows × 500 columns</p>\n",
       "</div>"
      ],
      "text/plain": [
       "        0         1         2         3         4         5         6    \\\n",
       "0  1.000000  1.000000  1.000000  1.000000  1.000000  1.000000  1.000000   \n",
       "1  1.000476  1.000536  0.998808  1.005394  1.011797  0.994452  0.997251   \n",
       "2  1.008876  1.004699  1.003590  0.996711  1.009571  0.994247  0.994214   \n",
       "3  1.008286  1.004228  1.003770  0.998232  1.007751  0.987669  0.998229   \n",
       "4  1.013963  1.006575  1.008493  1.002636  1.013664  0.990972  1.003241   \n",
       "\n",
       "        7         8         9    ...       490       491       492       493  \\\n",
       "0  1.000000  1.000000  1.000000  ...  1.000000  1.000000  1.000000  1.000000   \n",
       "1  1.013277  1.000869  0.995376  ...  1.002066  0.992709  1.001801  1.002671   \n",
       "2  1.007199  1.000225  0.993036  ...  1.005759  0.994517  1.003317  1.006181   \n",
       "3  1.001361  1.000230  1.001279  ...  1.006771  0.988444  1.004118  1.010565   \n",
       "4  0.995491  1.002048  1.006036  ...  1.004196  0.992123  1.004724  1.004423   \n",
       "\n",
       "        494       495       496       497       498       499  \n",
       "0  1.000000  1.000000  1.000000  1.000000  1.000000  1.000000  \n",
       "1  0.996472  1.003160  1.001638  1.006800  0.998173  0.994765  \n",
       "2  0.997472  0.991774  1.002764  1.005408  0.996137  0.998871  \n",
       "3  0.993293  0.994454  1.008272  0.999144  0.998656  1.003328  \n",
       "4  0.994844  0.993782  1.005722  1.002248  0.996964  1.004095  \n",
       "\n",
       "[5 rows x 500 columns]"
      ]
     },
     "execution_count": 11,
     "metadata": {},
     "output_type": "execute_result"
    }
   ],
   "source": [
    "# Check that the simulation ran successfully\n",
    "portfolio_cumulative_returns.head()"
   ]
  },
  {
   "cell_type": "code",
   "execution_count": 70,
   "metadata": {},
   "outputs": [
    {
     "data": {
      "image/png": "[encoded data removed]",
      "text/plain": [
       "<Figure size 432x288 with 1 Axes>"
      ]
     },
     "metadata": {
      "needs_background": "light"
     },
     "output_type": "display_data"
    }
   ],
   "source": [
    "# Visualize the Simulation\n",
    "plot_title = f\"{n+1} Simulations of Cumulative Portfolio Return Trajectories Over the Next 30 Years Trading Days\"\n",
    "portfolio_cumulative_returns.plot(legend=None, title=plot_title)\n",
    "plt.savefig('portfolio_cumulative_returns.png')"
   ]
  },
  {
   "cell_type": "code",
   "execution_count": 13,
   "metadata": {},
   "outputs": [
    {
     "data": {
      "text/plain": [
       "0      192.773859\n",
       "1      171.964137\n",
       "2      177.998514\n",
       "3      138.466715\n",
       "4      175.628015\n",
       "          ...    \n",
       "495    421.178699\n",
       "496    176.146473\n",
       "497    459.009778\n",
       "498    134.136899\n",
       "499    207.471362\n",
       "Name: 7560, Length: 500, dtype: float64"
      ]
     },
     "execution_count": 13,
     "metadata": {},
     "output_type": "execute_result"
    }
   ],
   "source": [
    "# Select the last row for the cumulative returns (cumulative returns at 30 years)\n",
    "ending_cumulative_returns = portfolio_cumulative_returns.iloc[-1, :]\n",
    "ending_cumulative_returns"
   ]
  },
  {
   "cell_type": "code",
   "execution_count": 15,
   "metadata": {},
   "outputs": [
    {
     "data": {
      "text/plain": [
       "0.05    102.825606\n",
       "0.95    379.341808\n",
       "Name: 7560, dtype: float64"
      ]
     },
     "execution_count": 15,
     "metadata": {},
     "output_type": "execute_result"
    }
   ],
   "source": [
    "# Display the 90% confidence interval for the ending returns\n",
    "confidence_interval = ending_cumulative_returns.quantile(q=[0.05, 0.95])\n",
    "confidence_interval"
   ]
  },
  {
   "cell_type": "code",
   "execution_count": 71,
   "metadata": {},
   "outputs": [
    {
     "data": {
      "image/png": "[encoded data removed]",
      "text/plain": [
       "<Figure size 432x288 with 1 Axes>"
      ]
     },
     "metadata": {
      "needs_background": "light"
     },
     "output_type": "display_data"
    }
   ],
   "source": [
    "# Visualize the distribution of the ending returns\n",
    "plt.figure();\n",
    "ending_cumulative_returns.plot(kind='hist', density=True,bins=50)\n",
    "plt.axvline(confidence_interval.iloc[0], color='r')\n",
    "plt.axvline(confidence_interval.iloc[1], color='r')\n",
    "plt.savefig('Ending return.png')"
   ]
  },
  {
   "cell_type": "markdown",
   "metadata": {},
   "source": [
    "---"
   ]
  },
  {
   "cell_type": "markdown",
   "metadata": {},
   "source": [
    "## Retirement Analysis\n",
    "\n",
    "In this section, you will use the monte carlo model to answer the following retirement planning questions:\n",
    "\n",
    "1. What are the expected cumulative returns at `30` years for the `10th`, `50th`, and `90th` percentiles?\n",
    "\n",
    "2. Given an initial investment of `$20,000`, what is the expected return in dollars at the `10th`, `50th`, and `90th` percentiles?\n",
    "\n",
    "3. Given the current projected annual income from the Plaid analysis, will a `4%` withdrawal rate meet or exceed that value at the `10th` percentile? Note: This is basically determining if retirement income is equivalent to current income.\n",
    "\n",
    "4. How would a `50%` increase in the initial investment amount affect the `4%` retirement withdrawal? In other words, what happens if the initial investment had been bigger?"
   ]
  },
  {
   "cell_type": "markdown",
   "metadata": {},
   "source": [
    "### What are the expected cumulative returns at 30 years for the 10th, 50th, and 90th percentiles?"
   ]
  },
  {
   "cell_type": "code",
   "execution_count": 17,
   "metadata": {},
   "outputs": [
    {
     "name": "stdout",
     "output_type": "stream",
     "text": [
      "119.02748490144215\n",
      "199.08385717168764\n",
      "320.56154856359313\n"
     ]
    }
   ],
   "source": [
    "# Compute cumulative returns\n",
    "return_10per=np.percentile(ending_cumulative_returns,10)\n",
    "return_50per=np.percentile(ending_cumulative_returns,50)\n",
    "return_90per=np.percentile(ending_cumulative_returns,90)\n",
    "print(return_10per)\n",
    "print(return_50per)\n",
    "print(return_90per)"
   ]
  },
  {
   "cell_type": "markdown",
   "metadata": {},
   "source": [
    "### Given an initial investment of `$20,000`, what is the expected portfolio return in dollars at the 10th, 50th, and 90th percentiles?"
   ]
  },
  {
   "cell_type": "code",
   "execution_count": 20,
   "metadata": {
    "collapsed": true,
    "jupyter": {
     "outputs_hidden": true,
     "source_hidden": true
    }
   },
   "outputs": [
    {
     "data": {
      "text/plain": [
       "0.1    40.197603\n",
       "0.5    58.914365\n",
       "0.9    82.980739\n",
       "Name: 7560, dtype: float64"
      ]
     },
     "execution_count": 20,
     "metadata": {},
     "output_type": "execute_result"
    }
   ],
   "source": [
    "expected_cumulative_return = ending_cumulative_returns.quantile(q=[0.10, 0.50, 0.90])\n",
    "expected_cumulative_return"
   ]
  },
  {
   "cell_type": "code",
   "execution_count": 25,
   "metadata": {},
   "outputs": [
    {
     "name": "stdout",
     "output_type": "stream",
     "text": [
      "2380549.7\n",
      "3981677.14\n",
      "6411230.97\n"
     ]
    }
   ],
   "source": [
    "# Set initial investment\n",
    "initial_investment = 20000\n",
    "# Compute expected portfolio return\n",
    "invest_10per=round((return_10per * initial_investment),2)\n",
    "invest_50per=round((return_50per * initial_investment),2)\n",
    "invest_90per=round((return_90per * initial_investment),2)\n",
    "print(invest_10per)\n",
    "print(invest_50per)\n",
    "print(invest_90per)"
   ]
  },
  {
   "cell_type": "code",
   "execution_count": 23,
   "metadata": {
    "collapsed": true,
    "jupyter": {
     "outputs_hidden": true,
     "source_hidden": true
    }
   },
   "outputs": [
    {
     "name": "stdout",
     "output_type": "stream",
     "text": [
      "823952.06\n",
      "1198287.29\n",
      "1679614.77\n"
     ]
    }
   ],
   "source": [
    "expected_return_10p = round(initial_investment + (initial_investment * expected_cumulative_return.iloc[0]),2)\n",
    "expected_return_50p = round(initial_investment + (initial_investment * expected_cumulative_return.iloc[1]),2)\n",
    "expected_return_90p = round(initial_investment + (initial_investment * expected_cumulative_return.iloc[2]),2)\n",
    "print(expected_return_10p)\n",
    "print(expected_return_50p)\n",
    "print(expected_return_90p)"
   ]
  },
  {
   "cell_type": "markdown",
   "metadata": {},
   "source": [
    "### Given the current projected annual income from the Plaid analysis, will a 4% withdraw rate from the retirement portfolio meet or exceed that value at the 10th percentile?\n",
    "\n",
    "Note: This is effectively saying that 90% of the expected returns will be greater than the return at the 10th percentile, so this can help measure the uncertainty about having enough funds at retirement"
   ]
  },
  {
   "cell_type": "code",
   "execution_count": 30,
   "metadata": {},
   "outputs": [
    {
     "name": "stdout",
     "output_type": "stream",
     "text": [
      "You will have $95221.99 in retirement income which is sufficient\n"
     ]
    }
   ],
   "source": [
    "# Set Plaid's projected income\n",
    "projected_income=7389\n",
    "\n",
    "# Calculate the 4% withdrawal for the ending return as retirement income\n",
    "retirement_income=.04 * invest_10per\n",
    "retirement_income\n",
    "\n",
    "# Determine if the retirement income meets or exceeds the current projected income\n",
    "if retirement_income >= projected_income:\n",
    "    print(f\"You will have ${retirement_income:.2f} in retirement income which is sufficient\")\n",
    "else:\n",
    "    print(f\"You will have ${retirement_income:.2f} in retirement income which is not sufficient\")\n"
   ]
  },
  {
   "cell_type": "markdown",
   "metadata": {},
   "source": [
    "### How would a 50% increase in the initial investment amount affect the 4% retirement withdrawal?"
   ]
  },
  {
   "cell_type": "code",
   "execution_count": 33,
   "metadata": {},
   "outputs": [
    {
     "name": "stdout",
     "output_type": "stream",
     "text": [
      "You will have $2856659640.00 in retirement income which is sufficient\n"
     ]
    }
   ],
   "source": [
    "# Re-calculate the retirement income with a 50% increase in the initial investment amount\n",
    "initial_investment_incr=initial_investment*1.5\n",
    "retirement_income_incr=.04 * (initial_investment_incr * invest_10per)\n",
    "if retirement_income_incr >= projected_income:\n",
    "    print(f\"You will have ${retirement_income_incr:.2f} in retirement income which is sufficient\")\n",
    "else:\n",
    "    print(f\"You will have ${retirement_income_incr:.2f} in retirement income which is not sufficient\")\n"
   ]
  },
  {
   "cell_type": "markdown",
   "metadata": {},
   "source": [
    "### Optional Challenge\n",
    "\n",
    "Use the Monte Carlo data and calculate the cumulative returns at the `5%`, `50%`, and `95%` quartiles and plot this data as a line chart to see how the cumulative returns change over the life of the investment.\n",
    "\n",
    "In this section, you need to calculate and plot the cumulative returns for the median and `90%` confidence intervals. This plot shows the expected cumulative returns for any given day between the first day and the last day of investment. "
   ]
  },
  {
   "cell_type": "code",
   "execution_count": 64,
   "metadata": {
    "collapsed": true,
    "jupyter": {
     "outputs_hidden": true,
     "source_hidden": true
    }
   },
   "outputs": [
    {
     "name": "stdout",
     "output_type": "stream",
     "text": [
      "102.82560628760503\n",
      "199.08385717168764\n",
      "379.34180755577614\n"
     ]
    }
   ],
   "source": [
    "# Compute projected returns\n",
    "portfolio_cumulative_returns_5 =np.percentile(ending_cumulative_returns,5) \n",
    "portfolio_cumulative_returns_50 =np.percentile(ending_cumulative_returns,50)\n",
    "portfolio_cumulative_returns_95 =np.percentile(ending_cumulative_returns,95) \n",
    "# Display sample data\n",
    "print(portfolio_cumulative_returns_5)\n",
    "print(portfolio_cumulative_returns_50)\n",
    "print(portfolio_cumulative_returns_95)"
   ]
  },
  {
   "cell_type": "code",
   "execution_count": 62,
   "metadata": {},
   "outputs": [
    {
     "name": "stdout",
     "output_type": "stream",
     "text": [
      "102.82560628760503\n",
      "199.08385717168764\n",
      "379.34180755577614\n"
     ]
    }
   ],
   "source": [
    "mont_return_5 = ending_cumulative_returns.quantile(0.05)\n",
    "mont_return_50 = ending_cumulative_returns.quantile(0.5)\n",
    "mont_return_90 = ending_cumulative_returns.quantile(0.95)\n",
    "print(mont_return_5)\n",
    "print(mont_return_50)\n",
    "print(mont_return_90)"
   ]
  },
  {
   "cell_type": "code",
   "execution_count": 69,
   "metadata": {},
   "outputs": [
    {
     "data": {
      "text/plain": [
       "[<matplotlib.lines.Line2D at 0x25f1c8b1148>]"
      ]
     },
     "execution_count": 69,
     "metadata": {},
     "output_type": "execute_result"
    },
    {
     "data": {
      "image/png": "[encoded data removed]",
      "text/plain": [
       "<Figure size 432x288 with 1 Axes>"
      ]
     },
     "metadata": {
      "needs_background": "light"
     },
     "output_type": "display_data"
    }
   ],
   "source": [
    "# Plot the cumulative returns over time\n",
    "plot_title = f\"{n+1} Simulations of Cumulative Portfolio Return Trajectories Over the Next 300 Trading Days\"\n",
    "plt.plot([mont_return_5,mont_return_50,mont_return_90])"
   ]
  },
  {
   "cell_type": "code",
   "execution_count": null,
   "metadata": {},
   "outputs": [],
   "source": [
    "# Compute portfolio performance over time\n",
    "\n",
    "# Plot projected performance over time\n"
   ]
  }
 ],
 "metadata": {
  "kernelspec": {
   "display_name": "Python 3",
   "language": "python",
   "name": "python3"
  },
  "language_info": {
   "codemirror_mode": {
    "name": "ipython",
    "version": 3
   },
   "file_extension": ".py",
   "mimetype": "text/x-python",
   "name": "python",
   "nbconvert_exporter": "python",
   "pygments_lexer": "ipython3",
   "version": "3.7.6"
  }
 },
 "nbformat": 4,
 "nbformat_minor": 4
}
